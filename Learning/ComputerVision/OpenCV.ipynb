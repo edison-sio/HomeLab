{
 "cells": [
  {
   "cell_type": "markdown",
   "id": "37a9a51a",
   "metadata": {},
   "source": [
    "#### Import modules"
   ]
  },
  {
   "cell_type": "code",
   "execution_count": 11,
   "id": "01e73cdb",
   "metadata": {},
   "outputs": [],
   "source": [
    "import cv2\n",
    "import numpy as np\n",
    "import matplotlib.pyplot as plt"
   ]
  },
  {
   "cell_type": "code",
   "execution_count": 13,
   "id": "9be30416",
   "metadata": {},
   "outputs": [],
   "source": [
    "width, height = 200, 150\n",
    "img = np.zeros((height, width, 3), dtype=np.uint8)\n",
    "\n",
    "# Set RGB values\n",
    "red, green, blue = 255, 255, 255\n",
    "\n",
    "img[:,:,0] = red\n",
    "img[:,:,1] = green\n",
    "img[:,:,2] = blue"
   ]
  },
  {
   "cell_type": "code",
   "execution_count": 30,
   "id": "1bc41c0d",
   "metadata": {
    "scrolled": true
   },
   "outputs": [],
   "source": [
    "def rgb_to_rgb565(rgb_img):\n",
    "    \"\"\"\n",
    "    Convert RGB image (height, width, 3)[uint8] into RGB565 (height, width)[uint16]\n",
    "    \"\"\"\n",
    "    h, w, _ = rgb_img.shape\n",
    "    rgb565 = np.zeros((height, width), dtype=np.uint16)\n",
    "    \n",
    "    for y in range(height):\n",
    "        for x in range(width):\n",
    "            r, g, b = rgb_img[y, x]\n",
    "            new_r = r >> 3\n",
    "            new_g = g >> 2\n",
    "            new_b = b >> 3\n",
    "            color = (new_r << 11) | ((new_g) << 5) | new_b\n",
    "            rgb565[y, x] = color\n",
    "    return rgb565\n",
    "\n",
    "def img_to_bytes(img):\n",
    "    \"\"\"\n",
    "    Convert RGB image into RGB565 bytes\n",
    "    \"\"\"\n",
    "    rgb565_img = rgb_to_rgb565(img)\n",
    "    img_bytes = rgb565_img.flatten().tobytes()\n",
    "    return img_bytes"
   ]
  },
  {
   "cell_type": "code",
   "execution_count": 48,
   "id": "24a6a618",
   "metadata": {
    "scrolled": true
   },
   "outputs": [],
   "source": [
    "import paho.mqtt.client as mqtt"
   ]
  },
  {
   "cell_type": "code",
   "execution_count": 50,
   "id": "d7b1e01a",
   "metadata": {},
   "outputs": [],
   "source": [
    "mqtt_broker = '192.168.1.101'\n",
    "mqtt_username = 'testUser'\n",
    "mqtt_password = 'Abc_072179'\n",
    "topic = 'test/esp32'"
   ]
  },
  {
   "cell_type": "code",
   "execution_count": 58,
   "id": "efd6c75d",
   "metadata": {},
   "outputs": [],
   "source": [
    "class MqttPublisher:\n",
    "    def __init__(self, broker_addr='localhost', port=1883):\n",
    "        self.mqtt_client = mqtt.Client()\n",
    "        self.broker_addr = broker_addr\n",
    "        self.port = port\n",
    "        self.topics = [] # 'test/esp32'\n",
    "        \n",
    "        self._credential = None # Encoded credentials\n",
    "    \n",
    "    def add_topic(self, topic):\n",
    "        self.topics.append(topic)\n",
    "    \n",
    "    def remove_topic(self, topic):\n",
    "        self.topics.remove(topic)\n",
    "    \n",
    "    def set_credential(self, username, pw):\n",
    "        self._credential((username, pw))\n",
    "    \n",
    "    def connect(self):\n",
    "        if self._credentials:\n",
    "            username, pw = self._credentials\n",
    "            self.mqtt_client.username_pw_set(username, pw)\n",
    "        self.mqtt_client.connect(self.broker_addr, self.port)\n",
    "        \n",
    "    def publish(self, payload):\n",
    "        if not self.mqtt_client.is_connected():\n",
    "            print('Client is not connected to the broker yet. Hint: Call start() to try connecting again')\n",
    "            return\n",
    "        for topic in self.topics:\n",
    "            self.mqtt_client.publish(topic, payload)"
   ]
  },
  {
   "cell_type": "code",
   "execution_count": 60,
   "id": "d69b5b15",
   "metadata": {},
   "outputs": [],
   "source": [
    "class ImageSender:\n",
    "    TOPIC = 'test/esp32'\n",
    "    BROKER_ADDR = '192.168.1.101'\n",
    "    PORT = 1883\n",
    "    USERNAME = 'testUser'\n",
    "    PASSWORD = 'Abc_072179'\n",
    "    \n",
    "    def __init__(self):\n",
    "        self.mqtt_publisher = MqttPublisher(broker_addr=BROKER_ADDR, port=PORT)\n",
    "        self.mqtt_publisher.set_credential(USERNAME, PASSWORD)\n",
    "        self.add_topic(TOPIC)\n",
    "        self.mqtt_publisher.connect()\n",
    "    \n",
    "    def send(self, img):\n",
    "        img_bytes = img_to_bytes(img)\n",
    "        for i in range(0, len(img_bytes), chunk_size):\n",
    "            data_chunk = img_bytes[i:i+chunk_size]\n",
    "            self.mqtt_publish.publish(data_chunk)"
   ]
  },
  {
   "cell_type": "code",
   "execution_count": null,
   "id": "a0e50086",
   "metadata": {},
   "outputs": [],
   "source": [
    "# sender = ImageSender()\n",
    "# sender.send(img)"
   ]
  }
 ],
 "metadata": {
  "kernelspec": {
   "display_name": "Python 3 (ipykernel)",
   "language": "python",
   "name": "python3"
  },
  "language_info": {
   "codemirror_mode": {
    "name": "ipython",
    "version": 3
   },
   "file_extension": ".py",
   "mimetype": "text/x-python",
   "name": "python",
   "nbconvert_exporter": "python",
   "pygments_lexer": "ipython3",
   "version": "3.10.8"
  }
 },
 "nbformat": 4,
 "nbformat_minor": 5
}
